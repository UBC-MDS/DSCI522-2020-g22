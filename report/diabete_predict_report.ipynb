{
 "cells": [
  {
   "cell_type": "markdown",
   "metadata": {},
   "source": [
    "# Predicting diabete from patient's health information"
   ]
  },
  {
   "cell_type": "code",
   "execution_count": 2,
   "metadata": {},
   "outputs": [],
   "source": [
    "# Sicheng Marc SUN\n",
    "# 2020/11/26\n",
    "\n",
    "\n",
    "# bibliography: references.bib\n",
    "# output: \n",
    "#   github_document:\n",
    "#     toc: true"
   ]
  },
  {
   "cell_type": "markdown",
   "metadata": {},
   "source": [
    "## Summary\n",
    "Here we apply three different classification models, decision tree, Gaussian naïve Bayes and logistic regression, in order to predict whether a patient diabete, given other features about his/her health information such as age, gender and whether the patient is suffering from any symptom we try to observe. <br>\n",
    "All three models performed decently on an unseen test data set. The logistic regression model has the highest f1 score (defined by : $2\\frac{precision*recall}{precision+recall}$) which is 0.97, the corresponding precision and recall are XXXX and XXXX, respectively.<br>\n",
    "What about recall? I feel like recall is more important than precision, maybe we can get those values can comment more"
   ]
  },
  {
   "cell_type": "markdown",
   "metadata": {},
   "source": [
    "## Introduction\n",
    "Over 425 million people are currently living with diabetes. It could be dangerous that a diabetic person is not aware of having diabete, other chronic diseases would develop if he/she failed to control the diet.\n",
    "\n",
    "Diabete can be diagnosed by a fasting blood sugar level test, however, it would be unrealistic to suggest every person to take the test on a yearly basis. Hence many diabete cases are undiagnosed.\n",
    "\n",
    "A machine learning model that predicts whether a person has diabete could help us to quickly identify the potential diabete population and tell us who need to take the blood sugar test in th early stage. A simplistic and interpretable model could allow people to get self-diagnosed before going to the hospital, and even doctors can learn from the parameters of the model."
   ]
  },
  {
   "cell_type": "markdown",
   "metadata": {},
   "source": [
    "## Methods\n",
    "## Data\n",
    "The dataset used for the analysis in the project is based on medical screening questions from the patients of Sylhet Diabetes Hospital in Bangladesh collected by M, IslamEmail, Rahatara Ferdousi, Sadikur Rahman and Yasmin Bushra. The dataset was sourced from the UCI Machine Learning Repository and can be found in here specifically this file.\n",
    "\n",
    "The data used for the project is collected by Sylhet Diabetes Hospital, by using direct questionnaires. The data set was sourced from the UCI Machine Learning Repository (Dua and Graff 2017) and can be found here. Each row of the dataset contains answser to some medical screening questions the patient was asked, and the last column tells whether the patient has diabete, and this is the reponse variable, the target we intend to predict."
   ]
  },
  {
   "cell_type": "markdown",
   "metadata": {},
   "source": [
    "## Analysis\n",
    "#### decision tree \n",
    "#### Gaussian naïve Bayes\n",
    "#### logistic regression\n",
    "\n",
    "\n",
    "The code used to perform the analysis and create this report can be found here: https://github.com/UBC-MDS/DSCI522-2020-g22"
   ]
  },
  {
   "cell_type": "markdown",
   "metadata": {},
   "source": [
    "## Result & Discussion\n",
    "\n",
    "![alt tag](../results/predictor_distributions.png)"
   ]
  },
  {
   "cell_type": "markdown",
   "metadata": {},
   "source": [
    "## References"
   ]
  },
  {
   "cell_type": "code",
   "execution_count": null,
   "metadata": {},
   "outputs": [],
   "source": []
  }
 ],
 "metadata": {
  "kernelspec": {
   "display_name": "Python 3",
   "language": "python",
   "name": "python3"
  },
  "language_info": {
   "codemirror_mode": {
    "name": "ipython",
    "version": 3
   },
   "file_extension": ".py",
   "mimetype": "text/x-python",
   "name": "python",
   "nbconvert_exporter": "python",
   "pygments_lexer": "ipython3",
   "version": "3.8.3"
  }
 },
 "nbformat": 4,
 "nbformat_minor": 4
}
